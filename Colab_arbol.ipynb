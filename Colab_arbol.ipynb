{
  "nbformat": 4,
  "nbformat_minor": 0,
  "metadata": {
    "colab": {
      "name": "Colab_arbol.ipynb",
      "provenance": [],
      "collapsed_sections": []
    },
    "kernelspec": {
      "name": "python3",
      "display_name": "Python 3"
    },
    "language_info": {
      "name": "python"
    }
  },
  "cells": [
    {
      "cell_type": "code",
      "execution_count": null,
      "metadata": {
        "id": "NxrkxKtTvt32"
      },
      "outputs": [],
      "source": [
        "# Creacion de nuestra Clase Arbol \n",
        "class Nodo:\n",
        "  pass"
      ]
    },
    {
      "cell_type": "code",
      "source": [
        "class Nodo:\n",
        "  def __init__ (self):           # Definimos un constructor el cual nos permite crear el orden de nuestro codigo. \n",
        "    print (\"El constructor\")\n",
        "\n",
        "d = Nodo()"
      ],
      "metadata": {
        "colab": {
          "base_uri": "https://localhost:8080/"
        },
        "id": "ALtzf-H9vxWj",
        "outputId": "3126a591-3864-41a2-caf8-f9a6a0467bfc"
      },
      "execution_count": null,
      "outputs": [
        {
          "output_type": "stream",
          "name": "stdout",
          "text": [
            "El constructor\n"
          ]
        }
      ]
    },
    {
      "cell_type": "code",
      "source": [
        "class Nodo:\n",
        "  def __init__ (self, dato):\n",
        "    self.contenido = dato        # Modificamos nuestro constructor y agendamos un dato al respecto \n",
        "\n",
        "d = Nodo(8)                      # Agregamos una variable que guardara la informacion de nuestro constructor.\n",
        "print(d.contenido)               # Imprimimos la variable.\n",
        "8"
      ],
      "metadata": {
        "colab": {
          "base_uri": "https://localhost:8080/"
        },
        "id": "wLTPE4hjvzCn",
        "outputId": "8091be0b-09f6-4164-a917-7996ffe57eec"
      },
      "execution_count": null,
      "outputs": [
        {
          "output_type": "stream",
          "name": "stdout",
          "text": [
            "8\n"
          ]
        },
        {
          "output_type": "execute_result",
          "data": {
            "text/plain": [
              "8"
            ]
          },
          "metadata": {},
          "execution_count": 4
        }
      ]
    },
    {
      "cell_type": "code",
      "source": [
        "class Nodo:\n",
        "  def __init__ (self, dato):\n",
        "    self.contenido = dato\n",
        "    self.izquierdo = None       # Agregamos dos nuevos contenidos a nuestro constructor, ambos definidos con el objeto (None)\n",
        "    self.derecho = None         # Este objeto no tiene un valor como tal pero lo utliziamos como una referencia que denota una falta de valor\n",
        " \n",
        "d = Nodo(8)\n",
        "print(d.contenido)\n",
        "print(d.izquierdo)              # Imprimimos las nuevas variables \n",
        "print(d.derecho)"
      ],
      "metadata": {
        "colab": {
          "base_uri": "https://localhost:8080/"
        },
        "id": "zkfPPH5Kv4gi",
        "outputId": "32019dd4-2b3d-48ea-adc9-885c7e4855f5"
      },
      "execution_count": null,
      "outputs": [
        {
          "output_type": "stream",
          "name": "stdout",
          "text": [
            "8\n",
            "None\n",
            "None\n"
          ]
        }
      ]
    },
    {
      "cell_type": "code",
      "source": [
        "class Nodo:\n",
        "  def __init__ (self, dato):\n",
        "    self.contenido = dato\n",
        "    self.izquierdo = None\n",
        "    self.derecho = None\n",
        "\n",
        "cabeza = Nodo(10)               # Agendamos nuevas caracteristicas a las variables y las definimos con valores para asi crear\n",
        "cabeza.izquierda = Nodo(8)      # Nuestro propio arbol.\n",
        "cabeza.derecha = Nodo(18)\n",
        "\n",
        "print(cabeza.contenido)\n",
        "print(cabeza.izquierda.contenido)\n",
        "print(cabeza.derecha.contenido)"
      ],
      "metadata": {
        "colab": {
          "base_uri": "https://localhost:8080/"
        },
        "id": "LNSFEw9Lv6ZK",
        "outputId": "44fc6b2d-068f-4fe1-9df1-bd7432220a24"
      },
      "execution_count": null,
      "outputs": [
        {
          "output_type": "stream",
          "name": "stdout",
          "text": [
            "10\n",
            "8\n",
            "18\n"
          ]
        }
      ]
    },
    {
      "cell_type": "code",
      "source": [
        "class Nodo:\n",
        "  def __init__ (self, dato):\n",
        "    self.contenido = dato\n",
        "    self.izquierda = None\n",
        "    self.derecha = None\n",
        "\n",
        "cabeza = Nodo(9)\n",
        "\n",
        "cabeza.izquierda = Nodo(3)            # Cada una de ellas conforma nuestro arbol y por esa razon prodecemos a colocarlas en cada parte, dependiendo\n",
        "cabeza.derecha = Nodo(26)             # Al esquema que esta construido nuestro arbol.\n",
        "\n",
        "cabeza.izquierda.izquierda = Nodo(1)\n",
        "cabeza.izquierda.derecha = Nodo(6)\n",
        "\n",
        "cabeza.derecha.izquierda = Nodo(15)   # Todos estos valores nos permitiran de mejor manera expresar lo necesario para asi \n",
        "cabeza.derecha.derecha = Nodo(45)     # Comprender de una forma mas estricta y sencilla lo que es \n",
        "                                      # La RECURSIVIDAD.\n",
        "cabeza.derecha.izquierda.izquierda = Nodo(12)\n",
        "cabeza.derecha.izquierda.derecha = Nodo(17)"
      ],
      "metadata": {
        "id": "1SNLWOEVv75v"
      },
      "execution_count": null,
      "outputs": []
    },
    {
      "cell_type": "code",
      "source": [
        "class Nodo:\n",
        "  def __init__ (self, dato):\n",
        "    self.contenido = dato\n",
        "    self.izquierda = None\n",
        "    self.derecha = None\n",
        "\n",
        "cabeza = Nodo(9)\n",
        "\n",
        "cabeza.izquierda = Nodo(3)\n",
        "cabeza.derecha = Nodo(26)\n",
        "\n",
        "cabeza.izquierda.izquierda = Nodo(1)\n",
        "cabeza.izquierda.derecha = Nodo(6)\n",
        "\n",
        "cabeza.derecha.izquierda = Nodo(15)\n",
        "cabeza.derecha.derecha = Nodo(45)\n",
        "\n",
        "cabeza.derecha.izquierda.izquierda = Nodo(12)\n",
        "cabeza.derecha.izquierda.derecha = Nodo(17) \n",
        "\n",
        "def imprimir( nodo ):          # Desarrollamos una funcion que nos permite observar los datos agendados en nuestras variables\n",
        "  if ( nodo == None ):         # Cada una de estas cumple con la caracteristica que tenia y se muestra ordenada\n",
        "    return                     # Frente a los Parametros del arbol.\n",
        "  else:\n",
        "    print( nodo.contenido)\n",
        "    imprimir( nodo.izquierda )\n",
        "    imprimir( nodo.derecha)\n",
        "\n",
        "imprimir( cabeza )"
      ],
      "metadata": {
        "colab": {
          "base_uri": "https://localhost:8080/"
        },
        "id": "F6NE_2Wgv9y6",
        "outputId": "358725e6-d892-4713-dc86-8fdca20a760d"
      },
      "execution_count": null,
      "outputs": [
        {
          "output_type": "stream",
          "name": "stdout",
          "text": [
            "9\n",
            "3\n",
            "1\n",
            "6\n",
            "26\n",
            "15\n",
            "12\n",
            "17\n",
            "45\n"
          ]
        }
      ]
    },
    {
      "cell_type": "code",
      "source": [
        "class Nodo:\n",
        "  def __init__ (self, dato):\n",
        "    self.contenido = dato\n",
        "    self.izquierda = None\n",
        "    self.derecha = None\n",
        "\n",
        "cabeza = Nodo(9)\n",
        "\n",
        "cabeza.izquierda = Nodo(3)\n",
        "cabeza.derecha = Nodo(26)\n",
        "\n",
        "cabeza.izquierda.izquierda = Nodo(1)\n",
        "cabeza.izquierda.derecha = Nodo(6)\n",
        "\n",
        "cabeza.derecha.izquierda = Nodo(15)\n",
        "cabeza.derecha.derecha = Nodo(45)\n",
        "\n",
        "cabeza.derecha.izquierda.izquierda = Nodo(12)\n",
        "cabeza.derecha.izquierda.derecha = Nodo(17) \n",
        "\n",
        "def imprimir( nodo, direccion ):                            # Modifiamnos nuestra funcion para poder ver nuestro arbol de una manera recursiva\n",
        "  if (direccion != None):                                   # Definimos una direccion y un esquema dado y despues de eso procedemo a condicionar \n",
        "    print(\"Se mueve hacia\" + direccion)                     # Segun correponde en nuestra funcion.\n",
        "  if ( nodo == None ):\n",
        "    print(\"El nodo está vacío. Regresa al padre\")           # En cada nodo indicamos que esta sucediendo al respecto y que parametros cumplio \n",
        "    return                                                  # El enfoque de nuestro codigo es poder recorrer cada parte del nodo de una forma recursiva; \n",
        "  else:                                                     # Revisando en cada lugar su numero y momento en donde termina dicho nodo. \n",
        "    print( nodo.contenido)\n",
        "    imprimir( nodo.izquierda, \" la izquierda\" )\n",
        "    imprimir( nodo.derecha, \" la derecha\")\n",
        "    print(\"El nodo ya fue procesado. Regresa al padre\")\n",
        "\n",
        "imprimir( cabeza, None )"
      ],
      "metadata": {
        "colab": {
          "base_uri": "https://localhost:8080/"
        },
        "id": "CFJZ7lzZwA1o",
        "outputId": "d7e993fd-154a-4c05-96fe-a5e8d7924d98"
      },
      "execution_count": null,
      "outputs": [
        {
          "output_type": "stream",
          "name": "stdout",
          "text": [
            "9\n",
            "Se mueve hacia la izquierda\n",
            "3\n",
            "Se mueve hacia la izquierda\n",
            "1\n",
            "Se mueve hacia la izquierda\n",
            "El nodo está vacío. Regresa al padre\n",
            "Se mueve hacia la derecha\n",
            "El nodo está vacío. Regresa al padre\n",
            "El nodo ya fue procesado. Regresa al padre\n",
            "Se mueve hacia la derecha\n",
            "6\n",
            "Se mueve hacia la izquierda\n",
            "El nodo está vacío. Regresa al padre\n",
            "Se mueve hacia la derecha\n",
            "El nodo está vacío. Regresa al padre\n",
            "El nodo ya fue procesado. Regresa al padre\n",
            "El nodo ya fue procesado. Regresa al padre\n",
            "Se mueve hacia la derecha\n",
            "26\n",
            "Se mueve hacia la izquierda\n",
            "15\n",
            "Se mueve hacia la izquierda\n",
            "12\n",
            "Se mueve hacia la izquierda\n",
            "El nodo está vacío. Regresa al padre\n",
            "Se mueve hacia la derecha\n",
            "El nodo está vacío. Regresa al padre\n",
            "El nodo ya fue procesado. Regresa al padre\n",
            "Se mueve hacia la derecha\n",
            "17\n",
            "Se mueve hacia la izquierda\n",
            "El nodo está vacío. Regresa al padre\n",
            "Se mueve hacia la derecha\n",
            "El nodo está vacío. Regresa al padre\n",
            "El nodo ya fue procesado. Regresa al padre\n",
            "El nodo ya fue procesado. Regresa al padre\n",
            "Se mueve hacia la derecha\n",
            "45\n",
            "Se mueve hacia la izquierda\n",
            "El nodo está vacío. Regresa al padre\n",
            "Se mueve hacia la derecha\n",
            "El nodo está vacío. Regresa al padre\n",
            "El nodo ya fue procesado. Regresa al padre\n",
            "El nodo ya fue procesado. Regresa al padre\n",
            "El nodo ya fue procesado. Regresa al padre\n"
          ]
        }
      ]
    },
    {
      "cell_type": "code",
      "source": [
        "# Escribir una funcion para sumar el contenido del arbol de una manera recursiva.\n",
        "\n",
        "class Nodos:\n",
        "  def _init_(self, dato):\n",
        "    self.contenido = dato\n",
        "    self.izquierda = None\n",
        "    self.derecha = None\n",
        "\n",
        "cabeza = Nodo (9)\n",
        "\n",
        "cabeza.izquierda = Nodo(3)\n",
        "cabeza.derecha = Nodo(26)\n",
        "\n",
        "cabeza.izquierda.izquierda = Nodo(1)\n",
        "cabeza.izquierda.derecha = Nodo(6)\n",
        "\n",
        "cabeza.derecha.izquierda = Nodo(15)\n",
        "cabeza.derecha.derecha = Nodo(45)\n",
        "\n",
        "cabeza.derecha.izquierda.izquierda = Nodo(12)\n",
        "cabeza.derecha.izquierda.derecha = Nodo(17) \n",
        "\n",
        "def sumar ( nodo ):                               # Creamos un a funcion para poder sumar de una manera coherente todo el nodo que guardamos en nuestro codigo\n",
        "  if (nodo == None):                              # Si el nodo carece de un valor y cumple con la falta el resultado a retornar sera el numero 0\n",
        "    return 0\n",
        "  return nodo.contenido + sumar(nodo.izquierda) + sumar(nodo.derecha)   # Pero, si el nodo cuenta co un valor lo que hace,mos es sumar la parte de la izquierda \n",
        "                                                                        # y la parte de la derech junto con su contenido inicial para asi saber que valor\n",
        "print(sumar(cabeza))                                                    # Tiene nuestro nodo; lo imprimimos y asi terminamos este problema."
      ],
      "metadata": {
        "colab": {
          "base_uri": "https://localhost:8080/"
        },
        "id": "DNOYmNNUwELJ",
        "outputId": "e4cb391f-f3ec-4e02-90ba-ac04d5328174"
      },
      "execution_count": null,
      "outputs": [
        {
          "output_type": "stream",
          "name": "stdout",
          "text": [
            "134\n"
          ]
        }
      ]
    },
    {
      "cell_type": "code",
      "source": [
        "# Funcion para encontrar el mayor valor dentro de nuestro arbol\n",
        "\n",
        "class Nodos:\n",
        "  def _init_(self, dato):\n",
        "    self.contenido = dato\n",
        "    self.izquierda = None\n",
        "    self.derecha = None\n",
        "\n",
        "cabeza = Nodo (9)\n",
        "\n",
        "cabeza.izquierda = Nodo(3)\n",
        "cabeza.derecha = Nodo(26)\n",
        "\n",
        "cabeza.izquierda.izquierda = Nodo(1)\n",
        "cabeza.izquierda.derecha = Nodo(6)\n",
        "\n",
        "cabeza.derecha.izquierda = Nodo(15)\n",
        "cabeza.derecha.derecha = Nodo(45)\n",
        "\n",
        "cabeza.derecha.izquierda.izquierda = Nodo(12)\n",
        "cabeza.derecha.izquierda.derecha = Nodo(17) \n",
        "\n",
        "def mayor (nodo, valor):                # Lo que debemos realizar en esta funcion es comparar los contenidos, definimos una variable que recorrera\n",
        "  if (nodo == None):                    # Todo nuestro codigo y lo comparara para resolver cual es el valor mas grande o mayor valor de todo nuestro codigo\n",
        "    return valor\n",
        "  if (nodo.contenido > valor):\n",
        "    valor = nodo.contenido \n",
        "  n1 = mayor (nodo.izquierda, valor)    # Lo que hacemos es comparar cada lado de nuestro nodo, sea izquierdo, derecho o tambien puede suceder que \n",
        "  n2 = mayor (nodo.derecha, valor)      # el mayor valor sea el principal\n",
        "  if (n1 > n2):                         # Finalmente retornamos dicho valor para poder mostrar en pantalla\n",
        "    return n1                           # el resultado de nuestro codigo, como es de nuestro ejemplo tenemos que el mayor mas grabnde es el 45\n",
        "  else:                                 # valor que se encuentra en el lado derecho del nodo.\n",
        "    return n2 \n",
        "\n",
        "print(mayor (cabeza, (cabeza.contenido)))"
      ],
      "metadata": {
        "colab": {
          "base_uri": "https://localhost:8080/"
        },
        "id": "Hxk_RJ2mwEuP",
        "outputId": "db524cd5-da1e-420a-90ca-94631ba1f631"
      },
      "execution_count": null,
      "outputs": [
        {
          "output_type": "stream",
          "name": "stdout",
          "text": [
            "45\n"
          ]
        }
      ]
    },
    {
      "cell_type": "code",
      "source": [
        "# Funcion para buscar un elemento dentro del arbol \n",
        "\n",
        "class Nodos:\n",
        "  def _init_(self, dato):\n",
        "    self.contenido = dato\n",
        "    self.izquierda = None\n",
        "    self.derecha = None\n",
        "\n",
        "cabeza = Nodo (9)\n",
        "\n",
        "cabeza.izquierda = Nodo(3)\n",
        "cabeza.derecha = Nodo(26)\n",
        "\n",
        "cabeza.izquierda.izquierda = Nodo(1)\n",
        "cabeza.izquierda.derecha = Nodo(6)\n",
        "\n",
        "cabeza.derecha.izquierda = Nodo(15)\n",
        "cabeza.derecha.derecha = Nodo(45)\n",
        "\n",
        "cabeza.derecha.izquierda.izquierda = Nodo(12)\n",
        "cabeza.derecha.izquierda.derecha = Nodo(17) \n",
        "\n",
        "def buscar (nodo, valor):                        # Desarrollamos una funcion que recorrera de manera recursiva nuestro codigo\n",
        "  if (nodo == None):                             # definimos el valor a encontrar, en ete caso al momento de ser igual el contenido con el valor\n",
        "    return False                                 # Tenemos que dicha respuesta sera VERDADERA.\n",
        "  if ( nodo.contenido == valor):\n",
        "    return True\n",
        "  else:\n",
        "    aux1 = buscar (nodo.izquierda, valor)        # Como en nuestros anterirores ejemplos, si por razon no se encontrio el valor en el inicio \n",
        "    if (aux1 == True):                           # debemos ahora realizar ua busqueda estricta en cada lado y parte del nodo, buscmos por su lado izquierdo\n",
        "      return True                                # O su lado derechoi segun corresponda \n",
        "    else:                                        # Finalmente realizamos un mensaje que nos indica si encontaramos el valor a buscarr en el arbol\n",
        "      aux2 = buscar (nodo.derecha, valor)        # si es correcto imprimimos en pantalla \"El valor ha sido encontrado.\"\n",
        "      return aux2                                # si no lo es imprimimos por pantalla \"Lo sentimos, el valor no se encuentra en el arbol.\"\n",
        "  \n",
        "if (buscar (cabeza, 45) == True):                # Es asi como finalmente concluimos nuestro codigo\n",
        "  print(\"El valor ha sido encontrado.\")          # y tambien nuestros ejemplos que nos permiten entender de una forma mas sencilla, practica y\n",
        "else:                                            # creativa nuestro concepto, atencion e idea de lo que es La Recursividad.\n",
        "  print(\"Lo sentimos, el valor no se encuentra en el arbol.\")"
      ],
      "metadata": {
        "colab": {
          "base_uri": "https://localhost:8080/"
        },
        "id": "4XLjkjftwGg3",
        "outputId": "5d588458-d1e2-4366-c098-a2d956628e39"
      },
      "execution_count": null,
      "outputs": [
        {
          "output_type": "stream",
          "name": "stdout",
          "text": [
            "El valor ha sido encontrado.\n"
          ]
        }
      ]
    }
  ]
}