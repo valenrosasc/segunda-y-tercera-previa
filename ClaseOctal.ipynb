{
  "nbformat": 4,
  "nbformat_minor": 0,
  "metadata": {
    "colab": {
      "name": "ClaseOctal.ipynb",
      "provenance": [],
      "collapsed_sections": []
    },
    "kernelspec": {
      "name": "python3",
      "display_name": "Python 3"
    },
    "language_info": {
      "name": "python"
    }
  },
  "cells": [
    {
      "cell_type": "code",
      "metadata": {
        "id": "EE0KKrpn_6Ya"
      },
      "source": [
        "# 1) Crear la clase octal\n",
        "\n",
        "class octal:          #class es para crear la clase\n",
        "  pass"
      ],
      "execution_count": null,
      "outputs": []
    },
    {
      "cell_type": "code",
      "metadata": {
        "id": "uwMYNGYdAWEx"
      },
      "source": [
        "# 2) Crear un \"constructor\" de objetos, inicialmente con un mensaje\n",
        "\n",
        "class Octal:\n",
        "  def __init__(self):               #Este es el constructor\n",
        "    print(\"Esta es clase octal\")\n",
        "\n",
        "a = octal()    "
      ],
      "execution_count": null,
      "outputs": []
    },
    {
      "cell_type": "code",
      "metadata": {
        "colab": {
          "base_uri": "https://localhost:8080/"
        },
        "id": "RaDDaB9ZBN3n",
        "outputId": "e26e3785-779b-4350-ca49-152df8b6a007"
      },
      "source": [
        "# 3) Modificar el \"constructor\" para que permita recibir el octal como una cadena\n",
        "\n",
        "class Octal:\n",
        "  def __init__(self, dato): #ponemos self, y la variable dato para recibir el numero\n",
        "     self.dato = dato\n",
        "\n",
        "a = Octal(\"37401\")          #aqui recibimos la cadena\n",
        "print(a.dato)"
      ],
      "execution_count": null,
      "outputs": [
        {
          "output_type": "stream",
          "name": "stdout",
          "text": [
            "37401\n"
          ]
        }
      ]
    },
    {
      "cell_type": "code",
      "metadata": {
        "colab": {
          "base_uri": "https://localhost:8080/"
        },
        "id": "k_ljWDgcBuQ8",
        "outputId": "cce09517-7538-411d-f1a9-8baf680cf02e"
      },
      "source": [
        "# 4) Crear un método (función) cuya tarea es mostrar en pantalla el contenido del objeto\n",
        "\n",
        "class octal:\n",
        "  def __init__(self, dato):\n",
        "    self.dato = dato\n",
        "  def string (self):       #esta es la funcion que genera el contenido de la cadena\n",
        "   print(self.dato)\n",
        "\n",
        "a = octal(\"37401\")\n",
        "a.string()"
      ],
      "execution_count": null,
      "outputs": [
        {
          "output_type": "stream",
          "name": "stdout",
          "text": [
            "37401\n"
          ]
        }
      ]
    },
    {
      "cell_type": "code",
      "metadata": {
        "colab": {
          "base_uri": "https://localhost:8080/"
        },
        "id": "YnQqBRFHDEKq",
        "outputId": "393d87ec-b8b6-4180-a35b-ecf62081c40c"
      },
      "source": [
        "# 5) Convertir la cadena que almacena el Octal, en una lista\n",
        "\n",
        "class octal:\n",
        "  lista_octal = []                   #esta es  la variable de la lista\n",
        "  def __init__(self, cadena_octal):\n",
        "     self.cadena_octal = cadena_octal\n",
        "     self.lista_octal = list( self.cadena_octal )  #aqui convertimos la cadena en una lista\n",
        "  def string( self ):\n",
        "     print(self.cadena_octal)\n",
        "     print(self.lista_octal)\n",
        "\n",
        "a = octal( \"37401\" )\n",
        "a.string()"
      ],
      "execution_count": null,
      "outputs": [
        {
          "output_type": "stream",
          "name": "stdout",
          "text": [
            "37401\n",
            "['3', '7', '4', '0', '1']\n"
          ]
        }
      ]
    },
    {
      "cell_type": "code",
      "metadata": {
        "colab": {
          "base_uri": "https://localhost:8080/"
        },
        "id": "aBeGOg8eFNYq",
        "outputId": "7f5e12bc-9b89-47b4-c81e-2076c8109626"
      },
      "source": [
        "# 6) Convertir la lista de strings en una  lista de enteros\n",
        "\n",
        "class Octal:\n",
        "  lista_octal = []\n",
        "\n",
        "  def __init__ (self, cadena_octal):\n",
        "    self.cadena_octal = cadena_octal\n",
        "    self.lista_octal = list(self.cadena_octal)\n",
        "\n",
        "    i = 0\n",
        "    for dato in self.lista_octal : \n",
        "       self.lista_octal[i] = int(dato)\n",
        "    i = i + 1                                    # esta es la funcion que nos ayudara a convertir la lista en enteros\n",
        "\n",
        "    self.lista_octal = list(reversed(self.lista_octal)) #con esto revertimos la funcion para que la lista quede rodenada\n",
        "\n",
        "  def string( self ):\n",
        "    print(self.cadena_octal)\n",
        "    print(self.lista_octal)\n",
        "\n",
        "a = octal( \"37401\" )\n",
        "a.string()     "
      ],
      "execution_count": null,
      "outputs": [
        {
          "output_type": "stream",
          "name": "stdout",
          "text": [
            "37401\n",
            "['3', '7', '4', '0', '1']\n"
          ]
        }
      ]
    },
    {
      "cell_type": "code",
      "metadata": {
        "colab": {
          "base_uri": "https://localhost:8080/"
        },
        "id": "tnadnbCzGSJD",
        "outputId": "99259c85-4582-4fb4-d6b2-086e81055275"
      },
      "source": [
        "# 7)  INVERTIR la lista para que coincida con los números octales de la matemática\n",
        "\n",
        "class Octal:\n",
        "  lista_octal = []\n",
        "\n",
        "  def __init__ (self, cadena_octal):\n",
        "    self.cadena_octal = cadena_octal\n",
        "    self.lista_octal = list(self.cadena_octal)\n",
        "\n",
        "    i = 0\n",
        "    for dato in self.lista_octal:\n",
        "      self.lista_octal[i] = int(dato)   \n",
        "      i = i + 1\n",
        "\n",
        "      self.lista_octal = list(reversed(self.lista_octal))\n",
        "\n",
        "  def string(self):\n",
        "    print(self.cadena_octal)\n",
        "    print(self.lista_octal)\n",
        "\n",
        "a = Octal(\"37401\")\n",
        "a.string()"
      ],
      "execution_count": null,
      "outputs": [
        {
          "output_type": "stream",
          "name": "stdout",
          "text": [
            "37401\n",
            "[1, 7, 4, 0, 3]\n"
          ]
        }
      ]
    },
    {
      "cell_type": "code",
      "metadata": {
        "colab": {
          "base_uri": "https://localhost:8080/"
        },
        "id": "L7-EGnB1I1_M",
        "outputId": "8dacbde8-f9cb-4708-d7da-bfbd0e4cbbe6"
      },
      "source": [
        "# 8) Convertir el octal en un decimal\n",
        "\n",
        "class Octal:\n",
        "  base = 8\n",
        "  lista_octal = []\n",
        "\n",
        "  def __init__ ( self, cadena_octal ):\n",
        "    self.cadena_octal = cadena_octal\n",
        "    self.lista_octal = list( self.cadena_octal )\n",
        "\n",
        "    i = 0\n",
        "    for dato in self.lista_octal:\n",
        "      self.lista_octal[i] = int(dato)\n",
        "      i = i + 1\n",
        "\n",
        "    self.lista_octal = list(reversed(self.lista_octal))\n",
        "\n",
        "  def decimal(self): \n",
        "        numero_decimal = 0 \n",
        "        i = 0 \n",
        "        for dato in self.lista_octal:\n",
        "          numero_decimal += self.base**i * self.lista_octal[i] \n",
        "          i = i + 1 \n",
        "        return numero_decimal \n",
        "\n",
        "  def string(self):\n",
        "     print(self.cadena_octal)\n",
        "     print(self.lista_octal)\n",
        "\n",
        "o = Octal(\"37401\")  \n",
        "o.string() \n",
        "print(o.decimal())\n"
      ],
      "execution_count": null,
      "outputs": [
        {
          "output_type": "stream",
          "name": "stdout",
          "text": [
            "37401\n",
            "[1, 0, 4, 7, 3]\n",
            "16129\n"
          ]
        }
      ]
    }
  ]
}