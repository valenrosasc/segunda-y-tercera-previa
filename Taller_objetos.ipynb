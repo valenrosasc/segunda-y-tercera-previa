{
  "nbformat": 4,
  "nbformat_minor": 0,
  "metadata": {
    "colab": {
      "name": "Taller_objetos.ipynb",
      "provenance": []
    },
    "kernelspec": {
      "name": "python3",
      "display_name": "Python 3"
    },
    "language_info": {
      "name": "python"
    }
  },
  "cells": [
    {
      "cell_type": "code",
      "metadata": {
        "colab": {
          "base_uri": "https://localhost:8080/"
        },
        "id": "SNy-cpt8uH0Q",
        "outputId": "70fc9a6c-a3dd-40f6-d27c-ab53f830f0fb"
      },
      "source": [
        "# Crea una clase\n",
        "\n",
        "class Gato:\n",
        "  numero_patas = 4\n",
        "  def __init__(self, raza, nombre, edad):\n",
        "    self.raza = raza\n",
        "    self.nombre = nombre\n",
        "    self.edad = edad\n",
        "  def maullar(self):\n",
        "   print(\"miau\")\n",
        "  def get_raza(self):\n",
        "    print(\"la raza del gato es:\",self.raza) \n",
        "  def get_nombre(self):\n",
        "    print(\"el nombre del gato es:\",self.nombre)\n",
        "  def get_edad(self):\n",
        "    print(\"la edad del gato es:\",self.edad)      \n",
        "    \n",
        "g = Gato (\"Persa\",\"Luna\",10)\n",
        "g.maullar()\n",
        "g.get_raza()\n",
        "g.get_nombre()\n",
        "g.get_edad()\n",
        "\n",
        "print(\"numero de patas del gato:\",g.numero_patas)"
      ],
      "execution_count": 29,
      "outputs": [
        {
          "output_type": "stream",
          "name": "stdout",
          "text": [
            "miau\n",
            "la raza del gato es: Persa\n",
            "el nombre del gato es: Luna\n",
            "la edad del gato es: 10\n",
            "numero de patas del gato: 4\n"
          ]
        }
      ]
    },
    {
      "cell_type": "code",
      "metadata": {
        "colab": {
          "base_uri": "https://localhost:8080/"
        },
        "id": "AdMVeihr6zF8",
        "outputId": "7550cb83-d4e7-45e1-b7cc-42cec9418114"
      },
      "source": [
        "# Crea una clase\n",
        "\n",
        "class moto:\n",
        "\n",
        "  def __init__(self, marca, tipo, bateria, neumaticos):\n",
        "     self.marca = marca\n",
        "     self.tipo = tipo\n",
        "     self.bateria = bateria\n",
        "     self.neumaticos = neumaticos\n",
        "  def get_marca(self):\n",
        "     print(\"la marca es:\",self.marca)\n",
        "  def get_tipo(self):\n",
        "      print(\"el tipo es:\",self.tipo)\n",
        "  def get_bateria(self):\n",
        "     print(\"la bateria es:\",self.bateria)\n",
        "  def get_neumaticos(self):\n",
        "     print(\"los neumaticos son:\",self.neumaticos) \n",
        "\n",
        "m = moto (\"Yamaha\", \"Clasica\", \"Mac\", \"michelin\")   \n",
        "m.get_marca()\n",
        "m.get_tipo()\n",
        "m.get_bateria()\n",
        "m.get_neumaticos()   \n",
        "       \n"
      ],
      "execution_count": 39,
      "outputs": [
        {
          "output_type": "stream",
          "name": "stdout",
          "text": [
            "la marca es: Yamaha\n",
            "el tipo es: Clasica\n",
            "la bateria es: Mac\n",
            "los neumaticos son: michelin\n"
          ]
        }
      ]
    }
  ]
}