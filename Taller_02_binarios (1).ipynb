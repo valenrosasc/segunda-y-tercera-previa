{
  "nbformat": 4,
  "nbformat_minor": 0,
  "metadata": {
    "colab": {
      "name": "Taller_02_binarios.ipynb",
      "provenance": [],
      "collapsed_sections": []
    },
    "kernelspec": {
      "name": "python3",
      "display_name": "Python 3"
    },
    "language_info": {
      "name": "python"
    }
  },
  "cells": [
    {
      "cell_type": "code",
      "metadata": {
        "id": "TDmOREXNxkMT"
      },
      "source": [
        "Taller Nro. 0002"
      ],
      "execution_count": null,
      "outputs": []
    },
    {
      "cell_type": "code",
      "metadata": {
        "colab": {
          "base_uri": "https://localhost:8080/"
        },
        "id": "Xgn-NJ3gvRpy",
        "outputId": "afcc6b30-e3ef-44bf-cff4-501fb511f923"
      },
      "source": [
        "def binario_a_decimal(binario):\n",
        "  posicion = 0\n",
        "  decimal = 0\n",
        "  \n",
        "  binario = binario[::-1]\n",
        "  for digito in binario:\n",
        "\n",
        "    multiplicador = 2**posicion\n",
        "    decimal += int(digito) * multiplicador\n",
        "    posicion += 1\n",
        "  return decimal\n",
        "\n",
        " # Probar\n",
        "binario = input(\"ingresar un numero binario: \")\n",
        "decimal = binario_a_decimal(binario)\n",
        "print(decimal)\n",
        "   "
      ],
      "execution_count": 5,
      "outputs": [
        {
          "output_type": "stream",
          "name": "stdout",
          "text": [
            "ingresar un numero binario: 11101\n",
            "29\n"
          ]
        }
      ]
    },
    {
      "cell_type": "code",
      "metadata": {
        "id": "lZIEQuJd31HM",
        "outputId": "ccff7a10-c78b-4262-f14b-93eab9b00882",
        "colab": {
          "base_uri": "https://localhost:8080/"
        }
      },
      "source": [
        "#Taller 001\n",
        "class Binario:\n",
        "  base = 2\n",
        "  lista_binario = []\n",
        "\n",
        "  def __init__ ( self, cadena_binario ):\n",
        "    self.cadena_binario = cadena_binario\n",
        "    self.lista_binario = list( self.cadena_binario )\n",
        "\n",
        "    i = 0\n",
        "    for dato in self.lista_binario:\n",
        "      self.lista_binario[i] = int(dato)\n",
        "      i = i + 1\n",
        "\n",
        "    self.lista_binario = list(reversed(self.lista_binario))\n",
        "  \n",
        "                                 \n",
        "                                                                                                             \n",
        "  def decimal(self):                                                                                  \n",
        "    numero_decimal = 0                                                                 \n",
        "    i = 0                                                     \n",
        "    for dato in self.lista_binario:                             \n",
        "      numero_decimal += self.base**i * self.lista_binario[i]    \n",
        "      i = i + 1                                               \n",
        "    return numero_decimal                                     \n",
        "                                                              \n",
        "  def string(self):\n",
        "   print(self.cadena_binario)\n",
        "   print(self.lista_binario)\n",
        "\n",
        "# Ejercicio 1:\n",
        "b = Binario (\"11101\")                                  \n",
        "b.string()                                         \n",
        "print(b.decimal())\n",
        "\n",
        "# Ejercicio 3:\n",
        "b = Binario (\"11\")                                  \n",
        "b.string()                                         \n",
        "print(b.decimal())\n",
        "\n",
        "# Ejercicio 3:\n",
        "b = Binario (\"0101\")                                  \n",
        "b.string()                                         \n",
        "print(b.decimal())\n",
        "\n",
        "# Ejercicio 4:\n",
        "b = Binario (\"110011\")                                  \n",
        "b.string()                                         \n",
        "print(b.decimal())"
      ],
      "execution_count": 1,
      "outputs": [
        {
          "output_type": "stream",
          "name": "stdout",
          "text": [
            "11101\n",
            "[1, 0, 1, 1, 1]\n",
            "29\n",
            "11\n",
            "[1, 1]\n",
            "3\n",
            "0101\n",
            "[1, 0, 1, 0]\n",
            "5\n",
            "110011\n",
            "[1, 1, 0, 0, 1, 1]\n",
            "51\n"
          ]
        }
      ]
    }
  ]
}